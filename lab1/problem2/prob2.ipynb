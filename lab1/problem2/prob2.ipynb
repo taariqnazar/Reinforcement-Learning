{
 "cells": [
  {
   "cell_type": "code",
   "execution_count": 1,
   "id": "c3c987aa-8062-440b-8b0f-cf7453f75ff2",
   "metadata": {},
   "outputs": [],
   "source": [
    "import numpy as np\n",
    "import gym\n",
    "import matplotlib.pyplot as plt"
   ]
  },
  {
   "cell_type": "code",
   "execution_count": 2,
   "id": "2f280135-500b-4144-bc80-2a10b3e8de09",
   "metadata": {},
   "outputs": [],
   "source": [
    "env = gym.make('MountainCar-v0')\n",
    "env.reset()\n",
    "low, high = env.observation_space.low, env.observation_space.high\n",
    "\n",
    "# Reward\n",
    "episode_reward_list = []  # Used to save episodes reward\n",
    "\n",
    "\n",
    "# Functions used during training\n",
    "def running_average(x, N):\n",
    "    ''' Function used to compute the running mean\n",
    "        of the last N elements of a vector x\n",
    "    '''\n",
    "    if len(x) >= N:\n",
    "        y = np.copy(x)\n",
    "        y[N-1:] = np.convolve(x, np.ones((N, )) / N, mode='valid')\n",
    "    else:\n",
    "        y = np.zeros_like(x)\n",
    "    return y\n",
    "\n",
    "def scale_state_variables(s, low=env.observation_space.low, high=env.observation_space.high):\n",
    "    ''' Rescaling of s to the box [0,1]^2 '''\n",
    "    x = (s - low) / (high - low)\n",
    "    return x"
   ]
  },
  {
   "cell_type": "code",
   "execution_count": 170,
   "id": "0dbeba05-9eda-4cd7-aecc-96ccea58536c",
   "metadata": {
    "scrolled": true,
    "tags": []
   },
   "outputs": [
    {
     "name": "stderr",
     "output_type": "stream",
     "text": [
      "C:\\Users\\Tariq\\AppData\\Roaming\\Python\\Python36\\site-packages\\ipykernel_launcher.py:21: RuntimeWarning: divide by zero encountered in true_divide\n"
     ]
    }
   ],
   "source": [
    "d = env.observation_space.shape[0]\n",
    "n_actions = env.action_space.n \n",
    "\n",
    "#Basis\n",
    "full = []\n",
    "order = 2\n",
    "for i in range(order + 1):\n",
    "    for j in range(order + 1):\n",
    "        #if i==0 or j == 0:\n",
    "            full.append((i,j))\n",
    "eta = np.array(full)\n",
    "\n",
    "def phi(state):\n",
    "    return np.cos(np.pi*(eta @ state))\n",
    "\n",
    "# Reward\n",
    "episode_reward_list = []  # Used to save episodes reward\n",
    "\n",
    "# Parameters\n",
    "N_episodes = 200    # Number of episodes to run for training\n",
    "alpha = 0.001*(1/np.linalg.norm(eta, axis=1)).reshape(-1,1)\n",
    "alpha[0,0] = 0.001\n",
    "gamma = 1    # Value of gamma\n",
    "lamb = 0.95\n",
    "epsilon = 0\n",
    "momentum = 0.5\n",
    "R_goal = -90\n",
    "\n",
    "basis_size = eta.shape[0]\n",
    "weights = np.ones((basis_size, n_actions))\n",
    "\n",
    "red = False\n",
    "for i in range(N_episodes):\n",
    "    # Reset enviroment data\n",
    "    done = False\n",
    "    state = scale_state_variables(env.reset())\n",
    "    total_episode_reward = 0\n",
    "    \n",
    "    # Initialize Eligibility trace\n",
    "    z = np.zeros((basis_size, n_actions))\n",
    "    v = np.zeros((basis_size, n_actions))\n",
    "    \n",
    "    \n",
    "    # Choose action from policyz\n",
    "    if epsilon > np.random.uniform():\n",
    "        print('random')\n",
    "        action = np.random.randint(0, n_actions)\n",
    "    else:\n",
    "        action = np.argmax(weights.T @ phi(state))\n",
    "        # Get next state and reward.\n",
    "    \n",
    "    \n",
    "    while not done:\n",
    "        next_state, reward, done, _ = env.step(action)\n",
    "        next_state = scale_state_variables(next_state)\n",
    "        \n",
    "        #Generate action_t+1\n",
    "        if epsilon > np.random.uniform():\n",
    "            print('random')\n",
    "            next_action = np.random.randint(0, n_actions)\n",
    "        else:\n",
    "            next_action = np.argmax(weights.T @ phi(next_state))\n",
    "        \n",
    "        #Update eligibility trace\n",
    "        z = gamma*lamb*z\n",
    "        z[:,action] += phi(state)\n",
    "\n",
    "        #update weights\n",
    "        delta = reward + gamma*(weights.T @ phi(next_state))[next_action] - (weights.T @ phi(state))[action]\n",
    "        v = momentum*v + alpha*delta*np.clip(z, -5, 5)\n",
    "        weights = weights + v#momentum*v + alpha*delta*np.clip(z,-5, 5)\n",
    "        \n",
    "        \n",
    "        # Update episode reward\n",
    "        total_episode_reward += reward\n",
    "\n",
    "        \n",
    "        # Update state,action for next iteration\n",
    "        state = next_state\n",
    "        action = next_action\n",
    "        \n",
    "    if np.abs(total_episode_reward - R_goal) < 10:\n",
    "        alpha = 0.05*alpha\n",
    "    episode_reward_list.append(total_episode_reward)\n",
    "\n",
    "    # Close environment\n",
    "    env.close()"
   ]
  },
  {
   "cell_type": "code",
   "execution_count": 171,
   "id": "ba64a24b-57ce-4360-8033-64cdfbf8f53d",
   "metadata": {},
   "outputs": [
    {
     "data": {
      "image/png": "[encoded data removed]",
      "text/plain": [
       "<Figure size 432x288 with 1 Axes>"
      ]
     },
     "metadata": {
      "needs_background": "light"
     },
     "output_type": "display_data"
    }
   ],
   "source": [
    "# Plot Rewards\n",
    "plt.plot([i for i in range(1, N_episodes+1)], episode_reward_list, label='Episode reward')\n",
    "plt.plot([i for i in range(1, N_episodes+1)], running_average(episode_reward_list, 10), label='Average episode reward')\n",
    "plt.xlabel('Episodes')\n",
    "plt.ylabel('Total reward')\n",
    "plt.title('Total Reward vs Episodes')\n",
    "plt.legend()\n",
    "plt.grid(alpha=0.3)\n",
    "plt.show()"
   ]
  },
  {
   "cell_type": "code",
   "execution_count": null,
   "id": "676a96f0-e6e0-41ec-9661-6daf0e3be175",
   "metadata": {},
   "outputs": [],
   "source": []
  }
 ],
 "metadata": {
  "kernelspec": {
   "display_name": "Python 3",
   "language": "python",
   "name": "python3"
  },
  "language_info": {
   "codemirror_mode": {
    "name": "ipython",
    "version": 3
   },
   "file_extension": ".py",
   "mimetype": "text/x-python",
   "name": "python",
   "nbconvert_exporter": "python",
   "pygments_lexer": "ipython3",
   "version": "3.6.12"
  }
 },
 "nbformat": 4,
 "nbformat_minor": 5
}
